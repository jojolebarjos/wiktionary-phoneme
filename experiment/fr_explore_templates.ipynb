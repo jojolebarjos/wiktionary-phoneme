{
 "cells": [
  {
   "cell_type": "markdown",
   "metadata": {},
   "source": [
    "# Explore French Templates"
   ]
  },
  {
   "cell_type": "code",
   "execution_count": 1,
   "metadata": {},
   "outputs": [],
   "source": [
    "# Register tools\n",
    "import os\n",
    "import sys\n",
    "\n",
    "sys.path.append(os.path.abspath(\"../\"))"
   ]
  },
  {
   "cell_type": "code",
   "execution_count": 8,
   "metadata": {},
   "outputs": [],
   "source": [
    "from collections import Counter\n",
    "\n",
    "import regex as re\n",
    "\n",
    "from tqdm import tqdm\n",
    "\n",
    "from extract import iterate_dump"
   ]
  },
  {
   "cell_type": "code",
   "execution_count": 3,
   "metadata": {},
   "outputs": [],
   "source": [
    "# Look at French corpus\n",
    "path = \"../frwiktionary-latest-pages-articles.xml.bz2\""
   ]
  },
  {
   "cell_type": "code",
   "execution_count": 4,
   "metadata": {},
   "outputs": [],
   "source": [
    "# Select characters that are unlikely to appear outside IPA notation\n",
    "#   https://en.wikipedia.org/wiki/Phonetic_symbols_in_Unicode\n",
    "IPA_KEY_CHARACTERS = set(\"ɑøʁɔɲŋɛɜɪʒːʃɥʊɹ\")"
   ]
  },
  {
   "cell_type": "code",
   "execution_count": 5,
   "metadata": {},
   "outputs": [
    {
     "name": "stderr",
     "output_type": "stream",
     "text": [
      "3820284it [06:10, 10322.06it/s]\n"
     ]
    }
   ],
   "source": [
    "# Process the whole dump\n",
    "with open(\"ipa.txt\", \"w\", encoding=\"utf-8\", newline=\"\\n\") as file:\n",
    "    for title, text in tqdm(iterate_dump(path)):\n",
    "\n",
    "        # Add header to easily go back to source page\n",
    "        file.write(f\"\\n>>> {title} <<<\\n\")\n",
    "        for line in text.split(\"\\n\"):\n",
    "\n",
    "            # If there is at least a few matches, keep it\n",
    "            s = set(line)\n",
    "            s.intersection_update(IPA_KEY_CHARACTERS)\n",
    "            if len(s) > 2:\n",
    "                file.write(line)\n",
    "                file.write(\"\\n\")"
   ]
  },
  {
   "cell_type": "code",
   "execution_count": 6,
   "metadata": {},
   "outputs": [],
   "source": [
    "# Load lines\n",
    "with open(\"ipa.txt\", \"r\", encoding=\"utf-8\", newline=\"\\n\") as file:\n",
    "    lines = [line.rstrip(\"\\n\") for line in file]"
   ]
  },
  {
   "cell_type": "code",
   "execution_count": 7,
   "metadata": {},
   "outputs": [
    {
     "name": "stdout",
     "output_type": "stream",
     "text": [
      "\n",
      ">>> accueil <<<\n",
      "\n",
      ">>> lire <<<\n",
      "\n",
      ">>> encyclopédie <<<\n",
      "\n",
      ">>> manga <<<\n",
      "\n",
      ">>> ouvrage <<<\n",
      "** {{écouter|lang=fr|France (Paris)|ɛ̃.n‿u.vʁaʒ|audio=Fr-ouvrage.ogg|titre=un ouvrage}}\n",
      "\n",
      ">>> siège <<<\n",
      "\n",
      ">>> chaise <<<\n",
      "* Canada : {{pron|ʃɛːz|fr}}, {{phon|ʃaɛ̯z|fr}}\n",
      "\n",
      ">>> fauteuil <<<\n",
      "\n",
      ">>> meuble <<<\n",
      "\n",
      ">>> armchair <<<\n",
      "{{en-nom-rég|ˌɑː(ɹ)m.ˈtʃeə(ɹ)}}\n",
      "* {{écouter|lang=en|États-Unis <!-- précisez svp la ville ou la région -->|ˌɑː(ɹ)m.ˈtʃeə(ɹ)|audio=En-us-armchair.ogg}}\n",
      "\n",
      ">>> mardi <<<\n",
      "\n",
      ">>> lundi <<<\n",
      "\n",
      ">>> semaine <<<\n",
      "\n",
      ">>> militaire <<<\n",
      "\n",
      ">>> suis <<<\n",
      "\n",
      ">>> barbe à papa <<<\n",
      "\n",
      ">>> manchot <<<\n",
      "\n",
      ">>> pingouin <<<\n",
      "\n",
      ">>> penguin <<<\n",
      "{{en-nom-rég|ˈpɛŋ.gwɪn}}\n",
      "'''penguin''' {{pron|ˈpɛŋ.ɡwɪn|en}}\n",
      "* {{écouter|lang=en|États-Unis <!-- précisez svp la ville ou la région -->|ˈpɛŋ.gwɪn|audio=En-us-penguin.ogg}}\n",
      "\n",
      ">>> mercredi <<<\n",
      "\n",
      ">>> bande dessinée <<<\n",
      "\n"
     ]
    }
   ],
   "source": [
    "# Show extract\n",
    "for line in lines[:50]:\n",
    "    print(line)"
   ]
  },
  {
   "cell_type": "code",
   "execution_count": 9,
   "metadata": {},
   "outputs": [],
   "source": [
    "# Count most common templates\n",
    "template_r = re.compile(r\"\\{\\{[^\\|\\{\\}]+[\\|\\}]\")\n",
    "counter = Counter()\n",
    "for line in lines:\n",
    "    counter.update(template_r.findall(line))"
   ]
  },
  {
   "cell_type": "code",
   "execution_count": 12,
   "metadata": {},
   "outputs": [
    {
     "data": {
      "text/plain": [
       "[('{{pron|', 398581),\n",
       " ('{{phono|', 60584),\n",
       " ('{{fr-rég|', 55346),\n",
       " ('{{m}', 32501),\n",
       " ('{{f}', 25925),\n",
       " ('{{écouter|', 9554),\n",
       " ('{{fr-inv|', 5655),\n",
       " ('{{mf}', 5236),\n",
       " ('{{équiv-pour|', 4838),\n",
       " ('{{en-nom-rég|', 4646),\n",
       " ('{{US|', 3894),\n",
       " ('{{UK|', 3842),\n",
       " ('{{conj|', 3401),\n",
       " ('{{t|', 3168),\n",
       " ('{{voir-conj|', 2400),\n",
       " ('{{fr-accord-cons|', 2358),\n",
       " ('{{conjugaison|', 1473),\n",
       " ('{{prnl|', 1367),\n",
       " ('{{invar}', 1269),\n",
       " ('{{fr-accord-s|', 1193),\n",
       " ('{{i|', 1163),\n",
       " ('{{sp}', 1054),\n",
       " ('{{n}', 918),\n",
       " ('{{fr-accord-rég|', 896),\n",
       " ('{{fr-accord-en|', 852),\n",
       " ('{{p}', 843),\n",
       " ('{{en-conj-rég|', 834),\n",
       " ('{{m|', 823),\n",
       " ('{{ortho1990}', 788),\n",
       " ('{{tradit}', 741),\n",
       " ('{{msing}', 711),\n",
       " ('{{h muet}', 659),\n",
       " ('{{fr-accord-el|', 589),\n",
       " ('{{fr-accord-al|', 581),\n",
       " ('{{en-conj-rég-e|', 576),\n",
       " ('{{de-nom-f-en|', 563),\n",
       " ('{{lien pronominal|', 507),\n",
       " ('{{fsing}', 504),\n",
       " ('{{au singulier uniquement|', 502),\n",
       " ('{{fr-accord-eur|', 368),\n",
       " ('{{h aspiré}', 360),\n",
       " ('{{en-nom|', 359),\n",
       " ('{{phon|', 355),\n",
       " ('{{fr-accord-mf|', 317),\n",
       " ('{{fr-accord-mixte|', 315),\n",
       " ('{{mplur}', 311),\n",
       " ('{{en-adj|', 293),\n",
       " ('{{pluriel ?|', 293),\n",
       " ('{{fr-accord-f|', 277),\n",
       " ('{{lien pronominal}', 244)]"
      ]
     },
     "execution_count": 12,
     "metadata": {},
     "output_type": "execute_result"
    }
   ],
   "source": [
    "# Show most common ones\n",
    "counter.most_common(50)"
   ]
  }
 ],
 "metadata": {
  "kernelspec": {
   "display_name": "Python 3",
   "language": "python",
   "name": "python3"
  },
  "language_info": {
   "codemirror_mode": {
    "name": "ipython",
    "version": 3
   },
   "file_extension": ".py",
   "mimetype": "text/x-python",
   "name": "python",
   "nbconvert_exporter": "python",
   "pygments_lexer": "ipython3",
   "version": "3.7.3"
  }
 },
 "nbformat": 4,
 "nbformat_minor": 2
}

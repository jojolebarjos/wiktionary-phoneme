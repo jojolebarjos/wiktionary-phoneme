{
 "cells": [
  {
   "cell_type": "markdown",
   "metadata": {},
   "source": [
    "# Test IPA Template Extraction"
   ]
  },
  {
   "cell_type": "code",
   "execution_count": 1,
   "metadata": {},
   "outputs": [],
   "source": [
    "# Register tools\n",
    "import os\n",
    "import sys\n",
    "\n",
    "sys.path.append(os.path.abspath(\"../\"))"
   ]
  },
  {
   "cell_type": "code",
   "execution_count": 2,
   "metadata": {},
   "outputs": [],
   "source": [
    "from collections import Counter\n",
    "\n",
    "import regex as re\n",
    "\n",
    "from tqdm import tqdm\n",
    "\n",
    "from extract import iterate_dump"
   ]
  },
  {
   "cell_type": "code",
   "execution_count": 3,
   "metadata": {},
   "outputs": [],
   "source": [
    "# Look at French corpus\n",
    "path = \"../frwiktionary-latest-pages-articles.xml.bz2\""
   ]
  },
  {
   "cell_type": "code",
   "execution_count": 4,
   "metadata": {},
   "outputs": [],
   "source": [
    "# Partial matching for relevant templates\n",
    "filter_r = re.compile(r\"\\{\\{(?:pron|phon|phono)\\|\")"
   ]
  },
  {
   "cell_type": "code",
   "execution_count": 5,
   "metadata": {},
   "outputs": [
    {
     "name": "stderr",
     "output_type": "stream",
     "text": [
      "3820284it [05:15, 12122.03it/s]\n"
     ]
    }
   ],
   "source": [
    "# Process the whole dump\n",
    "with open(\"phon.txt\", \"w\", encoding=\"utf-8\", newline=\"\\n\") as file:\n",
    "    for title, text in tqdm(iterate_dump(path)):\n",
    "\n",
    "        # Add header to easily go back to source page\n",
    "        file.write(f\"\\n>>> {title} <<<\\n\")\n",
    "        for line in text.split(\"\\n\"):\n",
    "\n",
    "            # If there is at least one match, keep it\n",
    "            if filter_r.search(line):\n",
    "                file.write(line)\n",
    "                file.write(\"\\n\")"
   ]
  },
  {
   "cell_type": "code",
   "execution_count": 8,
   "metadata": {},
   "outputs": [],
   "source": [
    "# Load lines\n",
    "with open(\"phon.txt\", \"r\", encoding=\"utf-8\", newline=\"\\n\") as file:\n",
    "    lines = [line.rstrip(\"\\n\") for line in file]"
   ]
  },
  {
   "cell_type": "code",
   "execution_count": 9,
   "metadata": {},
   "outputs": [
    {
     "name": "stdout",
     "output_type": "stream",
     "text": [
      "\n",
      ">>> accueil <<<\n",
      "'''accueil''' {{pron|a.kœj|fr}} {{m}}\n",
      "* {{pron|a.kœj|fr}}\n",
      "\n",
      ">>> lire <<<\n",
      "'''lire''' {{pron|liʁ|fr}} {{conjugaison|fr}} {{conjugaison|fr|grp=3}}\n",
      "'''lire''' {{pron|liʁ|fr}} {{f}}\n",
      "'''lire''' {{pron|liʁ|fro}}\n",
      "'''lire''' {{pron||af}}\n",
      "\n",
      ">>> encyclopédie <<<\n",
      "'''encyclopédie''' {{pron|ɑ̃.si.klɔ.pe.di|fr}} {{f}}\n",
      "'''encyclopédie''' {{pron|ɑ̃.si.klɔ.pe.di|fr}}\n",
      "\n",
      ">>> manga <<<\n",
      "'''manga''' {{pron|mɑ̃.ɡa|fr}} {{m}}\n",
      "'''manga''' {{pron|ˈmæŋ.ɡə|en}}\n",
      "'''manga''' {{pron|ˈmaŋ.ɡa|es}} {{f}}\n",
      "'''manga''' {{pron|ˈmaŋ.ɡa|es}} {{f}} {{pluriel ?|es}}\n",
      "'''manga''' {{pron||it}} {{m}} {{invariable}}\n",
      "'''manga''' {{pron||mg}}\n",
      "'''manga''' {{pron||pap}} {{f}}\n",
      "'''manga''' {{pron||pt}} {{f}}\n",
      "'''manga''' {{pron||pt}} {{f}}\n",
      "'''manga''' {{pron||sv}} {{c}}\n",
      "\n",
      ">>> ouvrage <<<\n",
      "'''ouvrage''' {{pron|u.vʁaʒ|fr}} {{m}}\n",
      "'''ouvrage''' {{pron|u.vʁaʒ|fr}}\n",
      "* {{pron|u.vʁaʒ|fr}}\n",
      "\n",
      ">>> siège <<<\n",
      "'''siège''' {{pron|sjɛʒ|fr}} {{m}}\n",
      "'''siège''' {{pron|sjɛʒ|fr}}\n",
      "\n",
      ">>> chaise <<<\n",
      ": De ''[[chaire#fr|chaire]]'' par [[assibilation]] dialectale du {{pron|r|fr}} [[intervocalique]] ; plus avant, du {{étyl|la|fr|mot=cathedra}}.\n",
      "'''chaise''' {{pron|ʃɛz|fr}} {{f}}\n",
      "* {{pron|ʃɛz|fr}}\n",
      "* Canada : {{pron|ʃɛːz|fr}}, {{phon|ʃaɛ̯z|fr}}\n",
      "* Français méridional : {{pron|ˈʃɛ.zə|fr}}\n",
      "\n",
      ">>> fauteuil <<<\n",
      "'''fauteuil''' {{pron|fo.tœj|fr}} {{m}}\n",
      "\n",
      ">>> meuble <<<\n",
      "'''meuble''' {{pron|mœbl|fr}} {{m}}\n",
      "'''meuble''' {{pron|mœbl|fr}} {{mf}}\n",
      "'''meuble''' {{pron|mœbl|fr}}\n"
     ]
    }
   ],
   "source": [
    "# Show extract\n",
    "for line in lines[:50]:\n",
    "    print(line)"
   ]
  },
  {
   "cell_type": "code",
   "execution_count": 10,
   "metadata": {},
   "outputs": [],
   "source": [
    "# Look at symbols\n",
    "pronounced_r = re.compile(r\"\\{\\{prononcé\\|\")\n",
    "ps = []\n",
    "for line in lines:\n",
    "    if pronounced_r.search(line):\n",
    "        ps.append(line)"
   ]
  },
  {
   "cell_type": "code",
   "execution_count": 11,
   "metadata": {},
   "outputs": [
    {
     "data": {
      "text/plain": [
       "25"
      ]
     },
     "execution_count": 11,
     "metadata": {},
     "output_type": "execute_result"
    }
   ],
   "source": [
    "len(ps)"
   ]
  },
  {
   "cell_type": "code",
   "execution_count": 12,
   "metadata": {},
   "outputs": [
    {
     "data": {
      "text/plain": [
       "[\"'''Y''' {{pron|i ɡʁɛk|fr}} {{prononcé|[[i grec]]|fr}} {{m}} \",\n",
       " \"'''Y''' {{pron|ɡʁɑ̃(t‿) i.ɡʁɛk|fr}} {{prononcé|grand y|fr}} {{m}}\",\n",
       " \"'''Y''' {{pron|ˌbɪɡ ˈwaɪ|en}} {{prononcé|big y|en}} ''ou'' {{pron|ˌkæp ˈwaɪ|en}} {{prononcé|cap y|en}}\",\n",
       " \"'''al''' {{prononcé|année-lumière|fr}} {{pron|a.ne ly.mjɛʁ|fr}} {{f}}.\",\n",
       " \"'''Z''' {{pron|ɡʁɑ̃ zɛd|fr}} {{prononcé|grand z|fr}} {{m}}\",\n",
       " \"'''N''' {{pron|nɔʁ|fr}} {{prononcé|nord|fr}} {{m}} {{invar}}, {{abréviation|fr}}\",\n",
       " \"'''y''' {{pron|pə.ti i.ɡʁɛk|fr}} {{prononcé|petit y|fr}}\\xa0{{m}}\",\n",
       " \"'''z''' {{pron|pə.ti zɛd|fr}} {{prononcé|petit z|fr}} {{m}}\",\n",
       " \"'''e.g.''' {{pron|fɔɹ.ɪɡ.ˈzæm.pl̩|en}} {{US|nocat=1}}, {{pron|fɔː.ɪɡ.ˈzɑːm.pl̩|en}} {{UK|nocat=1}} {{prononcé|for example|en}}\",\n",
       " \"'''cf.''' {{pron|kɔ̃.fɛʁ|fr}} {{prononcé|confère|fr}} <small>ou</small> {{pron|se.ɛf|fr}} {{invar}}\",\n",
       " \"'''ssi''' {{pron|si e sœl.mɑ̃ si|fr}} {{prononcé|si et seulement si|fr}}\",\n",
       " \"'''iff''' {{pron|ɪf ænd ˈoʊn.li ɪf|en}} {{US|nocat=1}}, {{pron|ɪf ænd ˈəʊn.li ɪf|en}} {{UK|nocat=1}} {{prononcé|if and only if|en}}\",\n",
       " \"'''i.e.''' {{pron|ˌaɪ.ˈi|en}} {{US|nocat=1}}, {{pron|ˌaɪ.ˈiː|en}} {{UK|nocat=1}} ; {{pron|ˈðæt ɪz|en}} {{prononcé|that is|en}}\",\n",
       " \"'''eg''' {{pron|fɔː.ɪɡ.ˈzɑːm.pl̩|en}} {{UK|nocat=1}}, {{pron|fɔɹ.ɪɡ.ˈzæm.pl̩|en}} {{US|nocat=1}} {{prononcé|for example|en}}\",\n",
       " \"'''WTF''' {{pron|ˈwʌt.ðə.ˈfʌk|en}} {{US|nocat=1}} {{prononcé|what the fuck|lang=en}}, {{pron|ˈwɒt.ðə.ˈfʌk|en}} {{UK|nocat=1}} {{abréviation|en}} ; {{pron|dʌb.ti.ˈɛf|en}} {{US|nocat=1}}, {{pron|dʌb.tiː.ˈɛf|en}} {{UK|nocat=1}} {{sigle|en}}\",\n",
       " \"'''qqch''' {{pron|kɛl.kə ʃoz|fr}} {{prononcé|{{l|quelque chose|fr}}|fr}}\",\n",
       " \"'''AB''' {{refnec|lang=fr|{{pron|a.se bjɛ̃|fr}} {{prononcé|[[assez]] [[bien]]|fr}}}}\",\n",
       " \"'''ca.''' {{prononcé|circa|fr}} {{pron|siʁ.ka|fr}}\",\n",
       " \"'''p****n''' {{pron|py.tɛ̃|fr}} {{prononcé|putain|fr}} {{m}} et {{f}}\",\n",
       " \"'''etc.''' {{pron|ɛt.se.te.ʁa|fr}} {{prononcé|et cetera|fr}}\",\n",
       " \"'''＃''' {{pron|ˈnʌm.bɚ|en}} {{US|nocat=1}}, {{pron|ˈnʌm.bə|en}} {{UK|nocat=1}} {{prononcé|number|en}}\",\n",
       " \"'''＃''' {{pron|ˈpaʊnd|en}} {{prononcé|pound|en}}\",\n",
       " \"'''SPQR''' {{pron|seˈnaː.tus po.puˈlus.kʷe roːˈmaː.nus|la}} {{prononcé|[[senatus populusque romanus]]|la}}\",\n",
       " \"'''éds''' {{pron|e.di.tœʁ|fr}} {{prononcé|[[éditeurs]]|fr}} {{m}}\",\n",
       " \"'''sth''' {{pron|ˈsʌm.θɪŋ|en}} {{prononcé|{{l|something|en}}|en}}\"]"
      ]
     },
     "execution_count": 12,
     "metadata": {},
     "output_type": "execute_result"
    }
   ],
   "source": [
    "ps"
   ]
  },
  {
   "cell_type": "code",
   "execution_count": null,
   "metadata": {},
   "outputs": [],
   "source": []
  }
 ],
 "metadata": {
  "kernelspec": {
   "display_name": "Python 3",
   "language": "python",
   "name": "python3"
  },
  "language_info": {
   "codemirror_mode": {
    "name": "ipython",
    "version": 3
   },
   "file_extension": ".py",
   "mimetype": "text/x-python",
   "name": "python",
   "nbconvert_exporter": "python",
   "pygments_lexer": "ipython3",
   "version": "3.7.3"
  }
 },
 "nbformat": 4,
 "nbformat_minor": 2
}
